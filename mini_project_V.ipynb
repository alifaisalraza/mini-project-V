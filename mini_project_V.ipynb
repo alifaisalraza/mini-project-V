{
 "cells": [
  {
   "cell_type": "markdown",
   "metadata": {},
   "source": [
    "## Identifying Duplicate Questions"
   ]
  },
  {
   "cell_type": "markdown",
   "metadata": {},
   "source": [
    "Over 100 million people visit Quora every month, so it's no surprise that many people ask similar (or the same) questions. Various questions with the same intent can cause people to spend extra time searching for the best answer to their question, and results in members answering multiple versions of the same question. Quora uses random forest to identify duplicated questions to provide a better experience to active seekers and writers, and offer more value to both of these groups in the long term.\n",
    "Follow the steps outlined below to build the appropriate classifier model. \n",
    "\n",
    "\n",
    "Steps:\n",
    "- Download data\n",
    "- Exploration\n",
    "- Cleaning\n",
    "- Feature Engineering\n",
    "- Modeling\n",
    "\n",
    "By the end of this project you should have **a presentation that describes the model you built** and its **performance**. \n"
   ]
  },
  {
   "cell_type": "code",
   "execution_count": 1,
   "metadata": {},
   "outputs": [],
   "source": [
    "import pandas as pd\n",
    "import numpy as np\n",
    "import matplotlib.pyplot as plt"
   ]
  },
  {
   "cell_type": "code",
   "execution_count": 2,
   "metadata": {},
   "outputs": [],
   "source": [
    "df = pd.read_csv(\"train.csv\")"
   ]
  },
  {
   "cell_type": "markdown",
   "metadata": {},
   "source": [
    "#### Note\n",
    "There is no designated test.csv file. The train.csv file is the entire dataset. Part of the data in the train.csv file should be set aside to act as the final testing data."
   ]
  },
  {
   "cell_type": "code",
   "execution_count": 3,
   "metadata": {},
   "outputs": [
    {
     "data": {
      "text/plain": [
       "(404290, 6)"
      ]
     },
     "execution_count": 3,
     "metadata": {},
     "output_type": "execute_result"
    }
   ],
   "source": [
    "df.shape"
   ]
  },
  {
   "cell_type": "code",
   "execution_count": 4,
   "metadata": {},
   "outputs": [
    {
     "data": {
      "text/plain": [
       "id               int64\n",
       "qid1             int64\n",
       "qid2             int64\n",
       "question1       object\n",
       "question2       object\n",
       "is_duplicate     int64\n",
       "dtype: object"
      ]
     },
     "execution_count": 4,
     "metadata": {},
     "output_type": "execute_result"
    }
   ],
   "source": [
    "df.dtypes"
   ]
  },
  {
   "cell_type": "code",
   "execution_count": 5,
   "metadata": {},
   "outputs": [
    {
     "data": {
      "text/plain": [
       "id              404290\n",
       "qid1            404290\n",
       "qid2            404290\n",
       "question1       404289\n",
       "question2       404288\n",
       "is_duplicate    404290\n",
       "dtype: int64"
      ]
     },
     "execution_count": 5,
     "metadata": {},
     "output_type": "execute_result"
    }
   ],
   "source": [
    "df.count()"
   ]
  },
  {
   "cell_type": "code",
   "execution_count": 6,
   "metadata": {},
   "outputs": [
    {
     "data": {
      "text/plain": [
       "id              404290\n",
       "qid1            290654\n",
       "qid2            299364\n",
       "question1       290456\n",
       "question2       299174\n",
       "is_duplicate         2\n",
       "dtype: int64"
      ]
     },
     "execution_count": 6,
     "metadata": {},
     "output_type": "execute_result"
    }
   ],
   "source": [
    "df.nunique()"
   ]
  },
  {
   "cell_type": "markdown",
   "metadata": {},
   "source": [
    "### Exploration"
   ]
  },
  {
   "cell_type": "code",
   "execution_count": 7,
   "metadata": {},
   "outputs": [
    {
     "data": {
      "text/html": [
       "<div>\n",
       "<style scoped>\n",
       "    .dataframe tbody tr th:only-of-type {\n",
       "        vertical-align: middle;\n",
       "    }\n",
       "\n",
       "    .dataframe tbody tr th {\n",
       "        vertical-align: top;\n",
       "    }\n",
       "\n",
       "    .dataframe thead th {\n",
       "        text-align: right;\n",
       "    }\n",
       "</style>\n",
       "<table border=\"1\" class=\"dataframe\">\n",
       "  <thead>\n",
       "    <tr style=\"text-align: right;\">\n",
       "      <th></th>\n",
       "      <th>id</th>\n",
       "      <th>qid1</th>\n",
       "      <th>qid2</th>\n",
       "      <th>question1</th>\n",
       "      <th>question2</th>\n",
       "      <th>is_duplicate</th>\n",
       "    </tr>\n",
       "  </thead>\n",
       "  <tbody>\n",
       "    <tr>\n",
       "      <th>0</th>\n",
       "      <td>0</td>\n",
       "      <td>1</td>\n",
       "      <td>2</td>\n",
       "      <td>What is the step by step guide to invest in sh...</td>\n",
       "      <td>What is the step by step guide to invest in sh...</td>\n",
       "      <td>0</td>\n",
       "    </tr>\n",
       "    <tr>\n",
       "      <th>1</th>\n",
       "      <td>1</td>\n",
       "      <td>3</td>\n",
       "      <td>4</td>\n",
       "      <td>What is the story of Kohinoor (Koh-i-Noor) Dia...</td>\n",
       "      <td>What would happen if the Indian government sto...</td>\n",
       "      <td>0</td>\n",
       "    </tr>\n",
       "    <tr>\n",
       "      <th>2</th>\n",
       "      <td>2</td>\n",
       "      <td>5</td>\n",
       "      <td>6</td>\n",
       "      <td>How can I increase the speed of my internet co...</td>\n",
       "      <td>How can Internet speed be increased by hacking...</td>\n",
       "      <td>0</td>\n",
       "    </tr>\n",
       "    <tr>\n",
       "      <th>3</th>\n",
       "      <td>3</td>\n",
       "      <td>7</td>\n",
       "      <td>8</td>\n",
       "      <td>Why am I mentally very lonely? How can I solve...</td>\n",
       "      <td>Find the remainder when [math]23^{24}[/math] i...</td>\n",
       "      <td>0</td>\n",
       "    </tr>\n",
       "    <tr>\n",
       "      <th>4</th>\n",
       "      <td>4</td>\n",
       "      <td>9</td>\n",
       "      <td>10</td>\n",
       "      <td>Which one dissolve in water quikly sugar, salt...</td>\n",
       "      <td>Which fish would survive in salt water?</td>\n",
       "      <td>0</td>\n",
       "    </tr>\n",
       "  </tbody>\n",
       "</table>\n",
       "</div>"
      ],
      "text/plain": [
       "   id  qid1  qid2                                          question1  \\\n",
       "0   0     1     2  What is the step by step guide to invest in sh...   \n",
       "1   1     3     4  What is the story of Kohinoor (Koh-i-Noor) Dia...   \n",
       "2   2     5     6  How can I increase the speed of my internet co...   \n",
       "3   3     7     8  Why am I mentally very lonely? How can I solve...   \n",
       "4   4     9    10  Which one dissolve in water quikly sugar, salt...   \n",
       "\n",
       "                                           question2  is_duplicate  \n",
       "0  What is the step by step guide to invest in sh...             0  \n",
       "1  What would happen if the Indian government sto...             0  \n",
       "2  How can Internet speed be increased by hacking...             0  \n",
       "3  Find the remainder when [math]23^{24}[/math] i...             0  \n",
       "4            Which fish would survive in salt water?             0  "
      ]
     },
     "execution_count": 7,
     "metadata": {},
     "output_type": "execute_result"
    }
   ],
   "source": [
    "df.head()"
   ]
  },
  {
   "cell_type": "code",
   "execution_count": 8,
   "metadata": {},
   "outputs": [
    {
     "name": "stdout",
     "output_type": "stream",
     "text": [
      "Duplicate pairs of questions: 36.92%\n"
     ]
    }
   ],
   "source": [
    "print('Duplicate pairs of questions: {}%'.format(round(df['is_duplicate'].mean()*100, 2)))"
   ]
  },
  {
   "cell_type": "code",
   "execution_count": 9,
   "metadata": {},
   "outputs": [
    {
     "name": "stdout",
     "output_type": "stream",
     "text": [
      "Total number of unique questions in the training data: 537933\n"
     ]
    }
   ],
   "source": [
    "qids = pd.Series(df['qid1'].tolist() + df['qid2'].tolist())\n",
    "print('Total number of unique questions in the training data: {}'.format(len(np.unique(qids))))"
   ]
  },
  {
   "cell_type": "code",
   "execution_count": 11,
   "metadata": {},
   "outputs": [
    {
     "name": "stdout",
     "output_type": "stream",
     "text": [
      "Number of questions that appear multiple times: 111780\n"
     ]
    }
   ],
   "source": [
    "print('Number of questions that appear multiple times: {}'.format(np.sum(qids.value_counts() > 1)))"
   ]
  },
  {
   "cell_type": "code",
   "execution_count": 21,
   "metadata": {},
   "outputs": [
    {
     "data": {
      "image/png": "[encoded data removed]",
      "text/plain": [
       "<Figure size 1200x500 with 1 Axes>"
      ]
     },
     "metadata": {},
     "output_type": "display_data"
    }
   ],
   "source": [
    "plt.figure(figsize=(12, 5))\n",
    "plt.hist(qids.value_counts(), bins=50)\n",
    "plt.yscale('log')\n",
    "plt.title('Log-Histogram of question appearance counts')\n",
    "plt.xlabel('Number of occurences of question')\n",
    "plt.ylabel('Number of questions')\n",
    "plt.show()"
   ]
  },
  {
   "cell_type": "code",
   "execution_count": 34,
   "metadata": {},
   "outputs": [
    {
     "data": {
      "image/png": "[encoded data removed]",
      "text/plain": [
       "<Figure size 1200x500 with 1 Axes>"
      ]
     },
     "metadata": {},
     "output_type": "display_data"
    }
   ],
   "source": [
    "df['is_duplicate?'] = df['is_duplicate'].apply(lambda x: 'No' if x == 0.0 else 'Yes')\n",
    "\n",
    "plt.figure(figsize=(12, 5))\n",
    "plt.bar(list(df['is_duplicate?'].unique()), list(df['is_duplicate'].value_counts()))\n",
    "plt.title('Frequency Distribution of Duplicate Questions')\n",
    "plt.xlabel('Duplicate or Not?')\n",
    "plt.ylabel('Number of questions')\n",
    "plt.show()"
   ]
  },
  {
   "cell_type": "markdown",
   "metadata": {},
   "source": [
    "### Cleaning\n",
    "\n",
    "- Tokenization\n",
    "- Stopwords cleaning\n",
    "- Removing punctuation\n",
    "- Normalizing\n",
    "- Stemming"
   ]
  },
  {
   "cell_type": "code",
   "execution_count": 13,
   "metadata": {},
   "outputs": [
    {
     "data": {
      "text/html": [
       "<div>\n",
       "<style scoped>\n",
       "    .dataframe tbody tr th:only-of-type {\n",
       "        vertical-align: middle;\n",
       "    }\n",
       "\n",
       "    .dataframe tbody tr th {\n",
       "        vertical-align: top;\n",
       "    }\n",
       "\n",
       "    .dataframe thead th {\n",
       "        text-align: right;\n",
       "    }\n",
       "</style>\n",
       "<table border=\"1\" class=\"dataframe\">\n",
       "  <thead>\n",
       "    <tr style=\"text-align: right;\">\n",
       "      <th></th>\n",
       "      <th>id</th>\n",
       "      <th>qid1</th>\n",
       "      <th>qid2</th>\n",
       "      <th>question1</th>\n",
       "      <th>question2</th>\n",
       "      <th>is_duplicate</th>\n",
       "    </tr>\n",
       "  </thead>\n",
       "  <tbody>\n",
       "    <tr>\n",
       "      <th>363362</th>\n",
       "      <td>363362</td>\n",
       "      <td>493340</td>\n",
       "      <td>493341</td>\n",
       "      <td>NaN</td>\n",
       "      <td>My Chinese name is Haichao Yu. What English na...</td>\n",
       "      <td>0</td>\n",
       "    </tr>\n",
       "  </tbody>\n",
       "</table>\n",
       "</div>"
      ],
      "text/plain": [
       "            id    qid1    qid2 question1  \\\n",
       "363362  363362  493340  493341       NaN   \n",
       "\n",
       "                                                question2  is_duplicate  \n",
       "363362  My Chinese name is Haichao Yu. What English na...             0  "
      ]
     },
     "execution_count": 13,
     "metadata": {},
     "output_type": "execute_result"
    }
   ],
   "source": [
    "df[df['question1'].isnull()]"
   ]
  },
  {
   "cell_type": "code",
   "execution_count": 14,
   "metadata": {},
   "outputs": [
    {
     "data": {
      "text/html": [
       "<div>\n",
       "<style scoped>\n",
       "    .dataframe tbody tr th:only-of-type {\n",
       "        vertical-align: middle;\n",
       "    }\n",
       "\n",
       "    .dataframe tbody tr th {\n",
       "        vertical-align: top;\n",
       "    }\n",
       "\n",
       "    .dataframe thead th {\n",
       "        text-align: right;\n",
       "    }\n",
       "</style>\n",
       "<table border=\"1\" class=\"dataframe\">\n",
       "  <thead>\n",
       "    <tr style=\"text-align: right;\">\n",
       "      <th></th>\n",
       "      <th>id</th>\n",
       "      <th>qid1</th>\n",
       "      <th>qid2</th>\n",
       "      <th>question1</th>\n",
       "      <th>question2</th>\n",
       "      <th>is_duplicate</th>\n",
       "    </tr>\n",
       "  </thead>\n",
       "  <tbody>\n",
       "    <tr>\n",
       "      <th>105780</th>\n",
       "      <td>105780</td>\n",
       "      <td>174363</td>\n",
       "      <td>174364</td>\n",
       "      <td>How can I develop android app?</td>\n",
       "      <td>NaN</td>\n",
       "      <td>0</td>\n",
       "    </tr>\n",
       "    <tr>\n",
       "      <th>201841</th>\n",
       "      <td>201841</td>\n",
       "      <td>303951</td>\n",
       "      <td>174364</td>\n",
       "      <td>How can I create an Android app?</td>\n",
       "      <td>NaN</td>\n",
       "      <td>0</td>\n",
       "    </tr>\n",
       "  </tbody>\n",
       "</table>\n",
       "</div>"
      ],
      "text/plain": [
       "            id    qid1    qid2                         question1 question2  \\\n",
       "105780  105780  174363  174364    How can I develop android app?       NaN   \n",
       "201841  201841  303951  174364  How can I create an Android app?       NaN   \n",
       "\n",
       "        is_duplicate  \n",
       "105780             0  \n",
       "201841             0  "
      ]
     },
     "execution_count": 14,
     "metadata": {},
     "output_type": "execute_result"
    }
   ],
   "source": [
    "df[df['question2'].isnull()]"
   ]
  },
  {
   "cell_type": "code",
   "execution_count": 15,
   "metadata": {},
   "outputs": [],
   "source": [
    "# drop the null rows.\n",
    "\n",
    "df.drop(363362, inplace=True)\n",
    "\n",
    "df.drop([105780, 201841], inplace=True)"
   ]
  },
  {
   "cell_type": "code",
   "execution_count": 16,
   "metadata": {},
   "outputs": [
    {
     "data": {
      "text/plain": [
       "id              404287\n",
       "qid1            404287\n",
       "qid2            404287\n",
       "question1       404287\n",
       "question2       404287\n",
       "is_duplicate    404287\n",
       "dtype: int64"
      ]
     },
     "execution_count": 16,
     "metadata": {},
     "output_type": "execute_result"
    }
   ],
   "source": [
    "df.count()"
   ]
  },
  {
   "cell_type": "code",
   "execution_count": 17,
   "metadata": {},
   "outputs": [],
   "source": [
    "#consider the first 50 thousand rows considering the lack of processing power and memory on the system.\n",
    "\n",
    "df_50 = df.head(50000)"
   ]
  },
  {
   "cell_type": "code",
   "execution_count": null,
   "metadata": {},
   "outputs": [
    {
     "data": {
      "text/plain": [
       "(50000, 6)"
      ]
     },
     "metadata": {},
     "output_type": "display_data"
    }
   ],
   "source": [
    "df_50.shape"
   ]
  },
  {
   "cell_type": "code",
   "execution_count": 19,
   "metadata": {},
   "outputs": [
    {
     "name": "stdout",
     "output_type": "stream",
     "text": [
      "Duplicate pairs of questions: 37.3%\n"
     ]
    }
   ],
   "source": [
    "#check the data balance ratio. Is it same as the original dataset?\n",
    "\n",
    "print('Duplicate pairs of questions: {}%'.format(round(df_50['is_duplicate'].mean()*100, 2)))"
   ]
  },
  {
   "cell_type": "code",
   "execution_count": 30,
   "metadata": {},
   "outputs": [],
   "source": [
    "# split all questions into words and add these together to create a central corpus of questions.\n",
    "\n",
    "import nltk\n",
    "from nltk.tokenize import word_tokenize\n",
    "\n",
    "corpus = []\n",
    "\n",
    "framelength = df_50.shape[0]\n",
    "\n",
    "i = 0\n",
    "\n",
    "while i < framelength:\n",
    "    corpus.append(word_tokenize(df_50.iloc[i]['question1']))\n",
    "    corpus.append(word_tokenize(df_50.iloc[i]['question2']))  \n",
    "    i += 1"
   ]
  },
  {
   "cell_type": "code",
   "execution_count": 31,
   "metadata": {},
   "outputs": [
    {
     "name": "stdout",
     "output_type": "stream",
     "text": [
      "total length of the corpus: 100000\n",
      "Sample question 1 after tokenization: ['What', 'is', 'the', 'step', 'by', 'step', 'guide', 'to', 'invest', 'in', 'share', 'market', 'in', 'india', '?']\n",
      "Sample question 1 after tokenization: ['What', 'is', 'the', 'step', 'by', 'step', 'guide', 'to', 'invest', 'in', 'share', 'market', '?']\n"
     ]
    }
   ],
   "source": [
    "# Check the total length of corpus which should be total of 100000 questions.\n",
    "\n",
    "print(\"total length of the corpus:\", len(corpus))\n",
    "\n",
    "print(\"Sample question 1 after tokenization:\", corpus[0])\n",
    "print(\"Sample question 1 after tokenization:\", corpus[1])"
   ]
  },
  {
   "cell_type": "code",
   "execution_count": 33,
   "metadata": {},
   "outputs": [],
   "source": [
    "# remove punctuation from each question set\n",
    "\n",
    "import string\n",
    "from nltk.corpus import stopwords\n",
    "\n",
    "table = str.maketrans('', '', string.punctuation)\n",
    "\n",
    "stop_words = set(stopwords.words('english'))\n",
    "\n",
    "corpus_cleaned = []\n",
    "\n",
    "corpuslength = len(corpus)\n",
    "\n",
    "i = 0\n",
    "\n",
    "while i < corpuslength: \n",
    "    doc_nopunc = [w.translate(table) for w in corpus[i]]\n",
    "    doc_alpha = [word for word in doc_nopunc if word.isalpha()]\n",
    "    doc_lower = [w.lower() for w in doc_alpha]\n",
    "    doc_final = [w for w in doc_lower if not w in stop_words]\n",
    "\n",
    "    corpus_cleaned.append(doc_final)\n",
    "\n",
    "    i += 1"
   ]
  },
  {
   "cell_type": "code",
   "execution_count": 36,
   "metadata": {},
   "outputs": [
    {
     "name": "stdout",
     "output_type": "stream",
     "text": [
      "step step guide invest share market india\n",
      "step step guide invest share market\n",
      "story kohinoor kohinoor diamond\n",
      "would happen indian government stole kohinoor kohinoor diamond back\n"
     ]
    }
   ],
   "source": [
    "# convert the list of words to string set to be able to vectorize them.\n",
    "\n",
    "corpus_transformed = []\n",
    "\n",
    "for doc in corpus_cleaned:\n",
    "    corpus_transformed.append(' '.join(map(str,doc)))\n",
    "\n",
    "print(corpus_transformed[0])\n",
    "print(corpus_transformed[1])\n",
    "print(corpus_transformed[2])\n",
    "print(corpus_transformed[3])"
   ]
  },
  {
   "cell_type": "markdown",
   "metadata": {},
   "source": [
    "### Feature Engineering\n",
    "\n",
    "- tf-idf\n",
    "- word2vec\n",
    "- word count\n",
    "- number of the same words in both questions\n",
    "- ...."
   ]
  },
  {
   "cell_type": "code",
   "execution_count": 37,
   "metadata": {},
   "outputs": [
    {
     "name": "stdout",
     "output_type": "stream",
     "text": [
      "vocabulary:  {'invest': 232, 'market': 275, 'india': 221, 'story': 420, 'would': 493, 'happen': 196, 'indian': 222, 'government': 188, 'back': 28, 'increase': 220, 'speed': 411, 'internet': 230, 'using': 460, 'find': 160, 'math': 277, 'one': 311, 'water': 471, 'say': 380, 'buy': 51, 'phone': 328, 'video': 462, 'games': 173, 'good': 185, 'great': 189, 'use': 458, 'instead': 226, 'company': 80, 'hack': 194, 'free': 167, 'things': 437, 'tell': 432, 'read': 361, 'youtube': 499, 'see': 385, 'make': 269, 'learn': 247, 'first': 161, 'experience': 149, 'like': 254, 'change': 65, 'student': 421, 'visa': 465, 'green': 190, 'card': 58, 'us': 456, 'compare': 81, 'canada': 56, 'trump': 447, 'mean': 279, 'international': 229, 'students': 422, 'affect': 4, 'study': 423, 'girls': 178, 'want': 468, 'friends': 169, 'guy': 192, 'guys': 193, 'feel': 159, 'girl': 176, 'many': 274, 'quora': 359, 'questions': 358, 'google': 186, 'people': 324, 'ask': 23, 'easily': 128, 'best': 40, 'digital': 117, 'marketing': 276, 'institute': 227, 'look': 259, 'white': 481, 'someone': 405, 'question': 357, 'much': 296, 'every': 145, 'time': 439, 'times': 440, 'day': 101, 'tips': 441, 'making': 271, 'job': 236, 'interview': 231, 'process': 347, 'web': 475, 'place': 329, 'way': 472, 'money': 289, 'online': 313, 'prepare': 342, 'ca': 52, 'law': 246, 'know': 242, 'exam': 146, 'thing': 436, 'better': 41, 'keep': 239, 'getting': 175, 'game': 172, 'give': 179, 'united': 452, 'states': 415, 'still': 417, 'etc': 142, 'average': 27, 'travel': 445, 'website': 476, 'think': 438, 'take': 429, 'control': 85, 'improve': 218, 'skills': 399, 'become': 36, 'next': 304, 'years': 498, 'year': 497, 'old': 310, 'girlfriend': 177, 'boyfriend': 48, 'choose': 70, 'makes': 270, 'end': 137, 'well': 479, 'call': 54, 'get': 174, 'civil': 72, 'service': 391, 'stop': 419, 'month': 290, 'worth': 492, 'long': 258, 'run': 374, 'universities': 454, 'new': 303, 'majors': 268, 'looking': 260, 'instagram': 225, 'number': 309, 'profile': 350, 'happens': 198, 'examples': 147, 'products': 349, 'made': 265, 'career': 59, 'preparation': 341, 'program': 351, 'play': 332, 'always': 8, 'ever': 144, 'nt': 308, 'apply': 20, 'friend': 168, 'true': 446, 'songs': 408, 'gmail': 181, 'password': 322, 'email': 135, 'recover': 365, 'ways': 473, 'download': 122, 'without': 484, 'normal': 305, 'dark': 98, 'around': 22, 'causes': 62, 'book': 46, 'child': 66, 'bad': 29, 'family': 154, 'java': 234, 'programming': 352, 'language': 243, 'computer': 83, 'important': 217, 'energy': 138, 'possible': 337, 'review': 370, 'cost': 87, 'come': 77, 'lost': 262, 'gain': 171, 'different': 116, 'body': 45, 'speak': 410, 'english': 141, 'data': 99, 'support': 426, 'usa': 457, 'level': 251, 'going': 184, 'faster': 156, 'account': 1, 'name': 299, 'purpose': 355, 'life': 252, 'actually': 2, 'right': 372, 'person': 327, 'open': 314, 'city': 71, 'employees': 136, 'high': 204, 'salary': 379, 'jobs': 237, 'height': 202, 'also': 7, 'major': 267, 'effects': 133, 'difference': 114, 'laptop': 244, 'rs': 373, 'part': 321, 'class': 73, 'technology': 431, 'social': 403, 'movies': 294, 'movie': 293, 'seen': 386, 'real': 362, 'work': 488, 'product': 348, 'join': 238, 'management': 273, 'based': 34, 'software': 404, 'could': 88, 'android': 12, 'really': 363, 'war': 469, 'pakistan': 319, 'american': 11, 'whatsapp': 480, 'love': 263, 'bank': 32, 'search': 384, 'traffic': 444, 'watch': 470, 'country': 90, 'world': 490, 'china': 68, 'food': 163, 'chinese': 69, 'women': 486, 'age': 5, 'differ': 113, 'similar': 396, 'exist': 148, 'need': 301, 'state': 414, 'win': 482, 'universe': 453, 'machine': 264, 'learning': 248, 'future': 170, 'meaning': 280, 'cause': 61, 'pay': 323, 'two': 449, 'successful': 424, 'course': 91, 'site': 397, 'men': 284, 'humans': 212, 'hair': 195, 'websites': 477, 'black': 44, 'correct': 86, 'stock': 418, 'options': 315, 'children': 67, 'hours': 209, 'days': 102, 'dog': 119, 'given': 180, 'working': 489, 'lose': 261, 'videos': 463, 'answer': 14, 'got': 187, 'advice': 3, 'sell': 387, 'business': 50, 'send': 388, 'engineering': 140, 'anyone': 16, 'apple': 19, 'music': 298, 'live': 256, 'small': 401, 'view': 464, 'private': 345, 'follow': 162, 'able': 0, 'startup': 413, 'history': 206, 'mobile': 287, 'battle': 35, 'college': 76, 'public': 354, 'start': 412, 'courses': 92, 'tv': 448, 'die': 112, 'rupees': 376, 'notes': 307, 'rupee': 375, 'easiest': 127, 'go': 182, 'development': 111, 'hate': 200, 'hillary': 205, 'clinton': 74, 'woman': 485, 'culture': 96, 'god': 183, 'series': 390, 'create': 93, 'presidential': 344, 'companies': 79, 'benefits': 39, 'top': 443, 'school': 381, 'even': 143, 'information': 224, 'earn': 125, 'code': 75, 'word': 487, 'home': 207, 'another': 13, 'drive': 123, 'car': 57, 'list': 255, 'president': 343, 'others': 317, 'months': 291, 'test': 434, 'science': 382, 'books': 47, 'weight': 478, 'created': 94, 'write': 494, 'fast': 155, 'period': 326, 'common': 78, 'modi': 288, 'eat': 129, 'done': 121, 'score': 383, 'apps': 21, 'app': 18, 'idea': 214, 'move': 292, 'health': 201, 'happened': 197, 'last': 245, 'plan': 331, 'delhi': 108, 'deal': 103, 'reduce': 366, 'iphone': 233, 'interesting': 228, 'effect': 132, 'banning': 33, 'ban': 30, 'used': 459, 'media': 282, 'post': 338, 'available': 26, 'degree': 106, 'countries': 89, 'design': 110, 'system': 428, 'something': 406, 'show': 394, 'currency': 97, 'economy': 130, 'death': 104, 'considered': 84, 'relationship': 367, 'iit': 216, 'reason': 364, 'facts': 152, 'earth': 126, 'popular': 336, 'date': 100, 'uk': 451, 'required': 369, 'medical': 283, 'differences': 115, 'election': 134, 'donald': 120, 'house': 210, 'called': 55, 'overcome': 318, 'university': 455, 'ms': 295, 'mechanical': 281, 'mind': 286, 'build': 49, 'help': 203, 'song': 407, 'found': 166, 'drug': 124, 'kind': 241, 'never': 302, 'type': 450, 'facebook': 151, 'order': 316, 'biggest': 43, 'services': 392, 'compared': 82, 'cell': 63, 'rid': 371, 'fall': 153, 'decision': 105, 'light': 253, 'main': 266, 'power': 339, 'big': 42, 'point': 333, 'amazon': 9, 'police': 335, 'places': 330, 'wrong': 496, 'theory': 435, 'less': 250, 'air': 6, 'believe': 38, 'safe': 378, 'pokemon': 334, 'improvement': 219, 'value': 461, 'education': 131, 'california': 53, 'space': 409, 'grow': 191, 'hard': 199, 'sex': 393, 'visit': 466, 'problem': 346, 'face': 150, 'engineer': 139, 'favorite': 158, 'per': 325, 'writing': 495, 'stay': 416, 'living': 257, 'side': 395, 'today': 442, 'indians': 223, 'ideas': 215, 'man': 272, 'behind': 37, 'sydney': 427, 'parents': 320, 'mba': 278, 'note': 306, 'asked': 24, 'form': 165, 'legal': 249, 'credit': 95, 'sentence': 389, 'america': 10, 'answers': 15, 'rate': 360, 'distance': 118, 'jee': 235, 'cat': 60, 'python': 356, 'vote': 467, 'terms': 433, 'windows': 483, 'sleep': 400, 'bangalore': 31, 'center': 64, 'talk': 430, 'mumbai': 297, 'kill': 240, 'human': 211, 'australia': 25, 'messages': 285, 'suicide': 425, 'remove': 368, 'hotel': 208, 'worst': 491, 'snapchat': 402, 'pregnant': 340, 'fat': 157, 'wear': 474, 'ones': 312, 'near': 300, 'foreign': 164, 'russia': 377, 'delete': 107, 'anything': 17, 'sites': 398, 'project': 353, 'ias': 213, 'desert': 109}\n",
      "idfs:  [6.92943916 5.82209319 6.80250845 7.23993591 6.73528314 6.67229381\n",
      " 7.22466843 7.2146181  6.90346367 7.24507731 6.88891796 6.72297529\n",
      " 6.27852474 6.84650878 6.50412228 6.91822409 6.41486118 7.2764935\n",
      " 6.2288013  7.02813853 6.92194848 7.13765706 6.86748857 6.21031649\n",
      " 7.26066204 7.30892878 6.76673227 6.47030263 6.16905503 6.28442446\n",
      " 7.1850593  6.92194848 6.57276421 7.1516433  7.26591139 7.94858727\n",
      " 5.38363792 6.94459096 6.58069028 7.17060121 3.46217716 5.4096134\n",
      " 6.5967334  7.04487532 5.97914663 6.65500231 6.02221193 5.9519048\n",
      " 7.11477276 7.10576369 5.99822277 5.83082687 6.06088651 7.22973174\n",
      " 7.07921346 7.16582793 7.04910366 6.45381227 6.33914936 6.5139989\n",
      " 7.05761435 6.96775802 7.18021667 7.18021667 7.19481547 6.11434053\n",
      " 7.24507731 7.19481547 6.53152125 6.67520502 7.07485616 7.14695945\n",
      " 7.11477276 6.68988957 6.14132362 6.82257601 6.13961568 6.5139989\n",
      " 6.88891796 6.56229291 6.1226948  6.00119014 7.11477276 6.25718542\n",
      " 6.98748253 6.79920266 7.22466843 6.5442279  5.68747543 6.69285253\n",
      " 6.21214967 7.01987402 7.18992549 6.81920333 7.33115191 7.28718879\n",
      " 7.20466777 6.99950672 7.13303811 6.28837704 7.08358984 5.75368019\n",
      " 6.59135705 7.03647191 7.00354713 7.19481547 7.08358984 6.76993228\n",
      " 6.80250845 7.4315311  7.04910366 6.8293557  6.9071334  6.93320564\n",
      " 5.13267968 6.69880493 5.96328472 6.95997588 7.30344931 7.21963064\n",
      " 5.84852644 6.5570981  6.76993228 7.13303811 7.20963056 6.23253963\n",
      " 6.49677831 7.26591139 6.99548257 6.68105299 6.89616437 6.99548257\n",
      " 7.1850593  6.97167192 6.77314255 6.73528314 6.66361068 6.76036283\n",
      " 6.60757362 6.68105299 5.82707452 5.58930684 7.13303811 6.48465694\n",
      " 5.35832011 6.68105299 6.29832737 6.12605615 6.68988957 6.5570981\n",
      " 7.2146181  6.05146729 6.9756012  7.07051775 7.09683506 7.13765706\n",
      " 7.21963064 6.96385938 6.70479297 5.60518019 5.37406846 5.41787109\n",
      " 7.22466843 6.63519968 7.21963064 7.20963056 7.20963056 6.02525145\n",
      " 6.61030213 6.49677831 6.60757362 7.02813853 6.63519968 6.97954598\n",
      " 4.02578919 6.36874983 5.89820986 6.79590776 6.54678873 6.37089806\n",
      " 7.17060121 6.76036283 5.72509048 6.80915299 6.04213596 4.51729186\n",
      " 5.80241236 6.6958243  6.23253963 6.78283568 7.29257964 7.27118845\n",
      " 6.56490048 7.26591139 6.8925346  6.59943246 6.13961568 6.87102839\n",
      " 6.49191212 6.64081768 7.05334995 7.15634919 6.95225383 6.07198892\n",
      " 6.38825207 6.20666018 6.76036283 6.43989093 7.41918526 7.27118845\n",
      " 7.1284404  6.65500231 7.1850593  7.23482081 7.08798545 7.19972949\n",
      " 7.22466843 6.28048745 5.8396375  7.24507731 6.19216717 4.33851431\n",
      " 5.33058335 7.14229744 7.2764935  6.10605548 7.00760393 7.26591139\n",
      " 6.78608772 7.12386374 6.79262369 6.56229291 7.2146181  6.32057298\n",
      " 6.73219195 7.15634919 5.51442582 6.94841506 7.07921346 6.78283568\n",
      " 7.2146181  6.8745808  5.08996421 5.86914573 6.51897404 6.76354248\n",
      " 7.07921346 5.10077513 6.28048745 7.05334995 7.2764935  7.20963056\n",
      " 4.94043248 6.99548257 4.49760816 7.10128941 6.28245402 6.99950672\n",
      " 5.88887024 6.63800473 6.97954598 5.9364659  7.19481547 5.6929191\n",
      " 7.1284404  6.2707122  7.16582793 6.77636317 7.28718879 4.85046765\n",
      " 6.75088408 6.86044628 6.62683143 7.05761435 5.25311585 6.85345325\n",
      " 6.78608772 6.94841506 6.9561074  5.5678844  6.52397405 6.81584198\n",
      " 7.23993591 7.21963064 6.47268075 7.17060121 6.97167192 6.4171109\n",
      " 6.73219195 5.07044274 6.74461447 6.86396123 7.12386374 6.01164579\n",
      " 6.1533616  7.05334995 5.22127926 7.25544009 6.76673227 6.43989093\n",
      " 7.12386374 5.84725175 6.82257601 5.23086181 6.64081768 7.13765706\n",
      " 6.94459096 5.79634069 4.66673665 5.94345404 6.04834716 4.7657705\n",
      " 7.10128941 5.42369231 6.99548257 7.15634919 7.14695945 7.22466843\n",
      " 7.2146181  6.61853263 6.99548257 7.2146181  6.59404161 6.86748857\n",
      " 4.45365924 6.95997588 7.1284404  5.82085172 5.80729637 6.69285253\n",
      " 6.79262369 6.99548257 6.62683143 7.16107733 7.31997861 6.99950672\n",
      " 7.07485616 5.67882673 7.11930792 6.86748857 7.21963064 7.04910366\n",
      " 6.09783851 6.05616581 7.11477276 7.01167725 7.02399774 6.71081709\n",
      " 7.21963064 7.17060121 7.23482081 7.09683506 6.02677468 7.16582793\n",
      " 7.20466777 7.07485616 7.23482081 6.0896885  5.73528887 4.83924734\n",
      " 7.20963056 6.34332473 6.14646502 5.79997926 6.99147455 7.04066479\n",
      " 7.07051775 6.61853263 7.21963064 7.2146181  6.99548257 6.64081768\n",
      " 6.51152059 6.65500231 6.91081664 6.66939105 7.34814949 7.23993591\n",
      " 6.61030213 6.7078005  6.31445675 6.24763425 6.28837704 6.98748253\n",
      " 7.09240047 6.09620318 7.07485616 7.28182685 7.27118845 7.01576724\n",
      " 6.9071334  6.69285253 6.92943916 5.93229633 7.00354713 7.23993591\n",
      " 7.25544009 6.9561074  7.06619809 6.62129125 7.07485616 7.25024528\n",
      " 7.13303811 6.59135705 6.23441404 5.22880066 6.79920266 6.87814586\n",
      " 7.00760393 7.19972949 7.19481547 7.16107733 5.4413621  7.09240047\n",
      " 6.75719325 6.70479297 7.14695945 6.05146729 7.25024528 5.91852201\n",
      " 7.29257964 6.35384008 6.57539926 6.24383918 7.16107733 7.19481547\n",
      " 6.84305454 7.19972949 6.30233539 5.72283823 7.15634919 7.13765706\n",
      " 6.44450988 7.10576369 6.67520502 7.25024528 6.00119014 5.75368019\n",
      " 5.23361663 5.06635037 7.30344931 6.7078005  6.9561074  6.31242629\n",
      " 7.03229654 6.46320201 6.41037687 5.36537619 6.58069028 6.3623327\n",
      " 6.94078143 7.25544009 6.68988957 6.97954598 6.93698636 6.40814223\n",
      " 5.41125949 6.54935612 5.17991245 5.77123477 5.92263442 7.21963064\n",
      " 6.61303811 7.16107733 7.25024528 7.27118845 6.80915299 7.11930792\n",
      " 5.49722304 6.00864729 6.48948787 6.4171109  4.78056624 5.80241236\n",
      " 7.25544009 6.52397405 6.20301719 7.05334995 5.79755208 7.11025808\n",
      " 6.58600944 6.72297529 6.18143362 6.86396123 5.35832011 6.79262369\n",
      " 6.24194703 6.33499135 5.3359167  6.56751486 5.48562095 7.06619809\n",
      " 6.84650878 4.56384397 6.53152125 6.87102839 7.02813853 5.5431448\n",
      " 6.02069563 6.62405751]\n"
     ]
    }
   ],
   "source": [
    "# vectorize the corpus of questions. Limit the vocabulary set to 500 to conserve on the processing power.\n",
    "\n",
    "from sklearn.feature_extraction.text import TfidfVectorizer\n",
    "\n",
    "# create the transform\n",
    "vectorizer = TfidfVectorizer(use_idf=True, strip_accents='ascii', max_features=500)\n",
    "\n",
    "# tokenize and build vocab\n",
    "vectorizer.fit(corpus_transformed)\n",
    "\n",
    "# summarize\n",
    "print('vocabulary: ', vectorizer.vocabulary_)\n",
    "print('idfs: ', vectorizer.idf_)"
   ]
  },
  {
   "cell_type": "code",
   "execution_count": 38,
   "metadata": {},
   "outputs": [
    {
     "data": {
      "text/plain": [
       "500"
      ]
     },
     "execution_count": 38,
     "metadata": {},
     "output_type": "execute_result"
    }
   ],
   "source": [
    "# check the size of vocabulary set.\n",
    "\n",
    "len(vectorizer.vocabulary_)"
   ]
  },
  {
   "cell_type": "code",
   "execution_count": 40,
   "metadata": {},
   "outputs": [],
   "source": [
    "# create vector of each questions based on the vocabulary set.\n",
    "\n",
    "vector = vectorizer.transform(corpus_transformed)"
   ]
  },
  {
   "cell_type": "code",
   "execution_count": 42,
   "metadata": {},
   "outputs": [
    {
     "data": {
      "text/plain": [
       "(100000, 500)"
      ]
     },
     "execution_count": 42,
     "metadata": {},
     "output_type": "execute_result"
    }
   ],
   "source": [
    "# check total vector matrix shape which should contain 100000 questions and 500 word dimention set.\n",
    "\n",
    "vector.shape"
   ]
  },
  {
   "cell_type": "code",
   "execution_count": 47,
   "metadata": {},
   "outputs": [
    {
     "name": "stdout",
     "output_type": "stream",
     "text": [
      "221 : 0.3996581679129399\n",
      "232 : 0.6646010232649997\n",
      "275 : 0.6313309977306577\n"
     ]
    }
   ],
   "source": [
    "# check sample vector for question and print the words which are considered in the vector for question 1. Owing to limited vector size, only limited words are being displayed.\n",
    "\n",
    "i = 0\n",
    "while i < len:\n",
    "    if vector[0].toarray()[0][i] != 0.0:\n",
    "        print(i, \":\", vector[0].toarray()[0][i])\n",
    "\n",
    "    i += 1"
   ]
  },
  {
   "cell_type": "code",
   "execution_count": null,
   "metadata": {},
   "outputs": [],
   "source": [
    "# convert the full vector of 100000 questions into 50000 original set of questions with each question vector being the addition of its original two question in each row.\n",
    "# The assumption is that on combining the two questions of each dataset row, the repeat words will get added in weightage and may influence the decision of duplication\n",
    "# in a positive way.\n",
    "\n",
    "vector_q = np.zeros((1, vector.shape[1]))\n",
    "\n",
    "i = 0\n",
    "\n",
    "while i < vector.shape[0]:\n",
    "    vector_q = np.append(vector_q,(vector[i] + vector[i+1]).toarray(), axis=0)\n",
    "    i += 2\n",
    "    print(i)\n",
    "\n",
    "vector_q = np.delete(vector_q, 0, 0)\n",
    "\n",
    "vector_q.shape"
   ]
  },
  {
   "cell_type": "code",
   "execution_count": 57,
   "metadata": {},
   "outputs": [
    {
     "name": "stdout",
     "output_type": "stream",
     "text": [
      "221 : 0.3996581679129399\n",
      "232 : 1.3896222321048273\n",
      "275 : 1.3200575376087396\n"
     ]
    }
   ],
   "source": [
    "# check whether addition of two questions into a single question vector has materialized with sample check on the first row.\n",
    "i = 0\n",
    "while i < vector_q.shape[1]:\n",
    "    if vector_q[0][i] != 0.0:\n",
    "        print(i, \":\", vector_q[0][i])\n",
    "    i += 1"
   ]
  },
  {
   "cell_type": "code",
   "execution_count": 59,
   "metadata": {},
   "outputs": [
    {
     "data": {
      "text/plain": [
       "(50000, 500)"
      ]
     },
     "execution_count": 59,
     "metadata": {},
     "output_type": "execute_result"
    }
   ],
   "source": [
    "vector_q.shape"
   ]
  },
  {
   "cell_type": "code",
   "execution_count": 61,
   "metadata": {},
   "outputs": [],
   "source": [
    "# get the result array into a separate row for input to the model.\n",
    "\n",
    "y = np.array(df_50['is_duplicate'].head(50000))"
   ]
  },
  {
   "cell_type": "code",
   "execution_count": 99,
   "metadata": {},
   "outputs": [],
   "source": [
    "y = y.reshape(-1,1)"
   ]
  },
  {
   "cell_type": "code",
   "execution_count": 102,
   "metadata": {},
   "outputs": [
    {
     "data": {
      "text/plain": [
       "(50000, 1)"
      ]
     },
     "execution_count": 102,
     "metadata": {},
     "output_type": "execute_result"
    }
   ],
   "source": [
    "y.shape"
   ]
  },
  {
   "cell_type": "code",
   "execution_count": 114,
   "metadata": {},
   "outputs": [],
   "source": [
    "x = vector_q"
   ]
  },
  {
   "cell_type": "code",
   "execution_count": 115,
   "metadata": {},
   "outputs": [],
   "source": [
    "# normalize the vector to keep all the values between 0 and 1.\n",
    "\n",
    "import numpy as np\n",
    "\n",
    "X = (x-np.min(x))/(np.max(x)-np.min(x))"
   ]
  },
  {
   "cell_type": "code",
   "execution_count": 117,
   "metadata": {},
   "outputs": [],
   "source": [
    "from sklearn.model_selection import train_test_split\n",
    "\n",
    "X_train, X_test, y_train, y_test = train_test_split(X, y, test_size=0.2, random_state=42)"
   ]
  },
  {
   "cell_type": "code",
   "execution_count": 118,
   "metadata": {},
   "outputs": [
    {
     "data": {
      "text/plain": [
       "(40000, 500)"
      ]
     },
     "execution_count": 118,
     "metadata": {},
     "output_type": "execute_result"
    }
   ],
   "source": [
    "X_train.shape"
   ]
  },
  {
   "cell_type": "markdown",
   "metadata": {},
   "source": [
    "### Modeling\n",
    "\n",
    "Different modeling techniques can be used:\n",
    "\n",
    "- logistic regression\n",
    "- XGBoost\n",
    "- LSTMs\n",
    "- etc"
   ]
  },
  {
   "cell_type": "code",
   "execution_count": 119,
   "metadata": {},
   "outputs": [
    {
     "data": {
      "text/html": [
       "<style>#sk-container-id-5 {color: black;background-color: white;}#sk-container-id-5 pre{padding: 0;}#sk-container-id-5 div.sk-toggleable {background-color: white;}#sk-container-id-5 label.sk-toggleable__label {cursor: pointer;display: block;width: 100%;margin-bottom: 0;padding: 0.3em;box-sizing: border-box;text-align: center;}#sk-container-id-5 label.sk-toggleable__label-arrow:before {content: \"▸\";float: left;margin-right: 0.25em;color: #696969;}#sk-container-id-5 label.sk-toggleable__label-arrow:hover:before {color: black;}#sk-container-id-5 div.sk-estimator:hover label.sk-toggleable__label-arrow:before {color: black;}#sk-container-id-5 div.sk-toggleable__content {max-height: 0;max-width: 0;overflow: hidden;text-align: left;background-color: #f0f8ff;}#sk-container-id-5 div.sk-toggleable__content pre {margin: 0.2em;color: black;border-radius: 0.25em;background-color: #f0f8ff;}#sk-container-id-5 input.sk-toggleable__control:checked~div.sk-toggleable__content {max-height: 200px;max-width: 100%;overflow: auto;}#sk-container-id-5 input.sk-toggleable__control:checked~label.sk-toggleable__label-arrow:before {content: \"▾\";}#sk-container-id-5 div.sk-estimator input.sk-toggleable__control:checked~label.sk-toggleable__label {background-color: #d4ebff;}#sk-container-id-5 div.sk-label input.sk-toggleable__control:checked~label.sk-toggleable__label {background-color: #d4ebff;}#sk-container-id-5 input.sk-hidden--visually {border: 0;clip: rect(1px 1px 1px 1px);clip: rect(1px, 1px, 1px, 1px);height: 1px;margin: -1px;overflow: hidden;padding: 0;position: absolute;width: 1px;}#sk-container-id-5 div.sk-estimator {font-family: monospace;background-color: #f0f8ff;border: 1px dotted black;border-radius: 0.25em;box-sizing: border-box;margin-bottom: 0.5em;}#sk-container-id-5 div.sk-estimator:hover {background-color: #d4ebff;}#sk-container-id-5 div.sk-parallel-item::after {content: \"\";width: 100%;border-bottom: 1px solid gray;flex-grow: 1;}#sk-container-id-5 div.sk-label:hover label.sk-toggleable__label {background-color: #d4ebff;}#sk-container-id-5 div.sk-serial::before {content: \"\";position: absolute;border-left: 1px solid gray;box-sizing: border-box;top: 0;bottom: 0;left: 50%;z-index: 0;}#sk-container-id-5 div.sk-serial {display: flex;flex-direction: column;align-items: center;background-color: white;padding-right: 0.2em;padding-left: 0.2em;position: relative;}#sk-container-id-5 div.sk-item {position: relative;z-index: 1;}#sk-container-id-5 div.sk-parallel {display: flex;align-items: stretch;justify-content: center;background-color: white;position: relative;}#sk-container-id-5 div.sk-item::before, #sk-container-id-5 div.sk-parallel-item::before {content: \"\";position: absolute;border-left: 1px solid gray;box-sizing: border-box;top: 0;bottom: 0;left: 50%;z-index: -1;}#sk-container-id-5 div.sk-parallel-item {display: flex;flex-direction: column;z-index: 1;position: relative;background-color: white;}#sk-container-id-5 div.sk-parallel-item:first-child::after {align-self: flex-end;width: 50%;}#sk-container-id-5 div.sk-parallel-item:last-child::after {align-self: flex-start;width: 50%;}#sk-container-id-5 div.sk-parallel-item:only-child::after {width: 0;}#sk-container-id-5 div.sk-dashed-wrapped {border: 1px dashed gray;margin: 0 0.4em 0.5em 0.4em;box-sizing: border-box;padding-bottom: 0.4em;background-color: white;}#sk-container-id-5 div.sk-label label {font-family: monospace;font-weight: bold;display: inline-block;line-height: 1.2em;}#sk-container-id-5 div.sk-label-container {text-align: center;}#sk-container-id-5 div.sk-container {/* jupyter's `normalize.less` sets `[hidden] { display: none; }` but bootstrap.min.css set `[hidden] { display: none !important; }` so we also need the `!important` here to be able to override the default hidden behavior on the sphinx rendered scikit-learn.org. See: https://github.com/scikit-learn/scikit-learn/issues/21755 */display: inline-block !important;position: relative;}#sk-container-id-5 div.sk-text-repr-fallback {display: none;}</style><div id=\"sk-container-id-5\" class=\"sk-top-container\"><div class=\"sk-text-repr-fallback\"><pre>XGBClassifier(base_score=0.5, booster=&#x27;gbtree&#x27;, callbacks=None,\n",
       "              colsample_bylevel=1, colsample_bynode=1, colsample_bytree=1,\n",
       "              early_stopping_rounds=None, enable_categorical=False,\n",
       "              eval_metric=None, feature_types=None, gamma=0, gpu_id=-1,\n",
       "              grow_policy=&#x27;depthwise&#x27;, importance_type=None,\n",
       "              interaction_constraints=&#x27;&#x27;, learning_rate=0.300000012,\n",
       "              max_bin=256, max_cat_threshold=64, max_cat_to_onehot=4,\n",
       "              max_delta_step=0, max_depth=6, max_leaves=0, min_child_weight=1,\n",
       "              missing=nan, monotone_constraints=&#x27;()&#x27;, n_estimators=100,\n",
       "              n_jobs=0, num_parallel_tree=1, predictor=&#x27;auto&#x27;, random_state=0, ...)</pre><b>In a Jupyter environment, please rerun this cell to show the HTML representation or trust the notebook. <br />On GitHub, the HTML representation is unable to render, please try loading this page with nbviewer.org.</b></div><div class=\"sk-container\" hidden><div class=\"sk-item\"><div class=\"sk-estimator sk-toggleable\"><input class=\"sk-toggleable__control sk-hidden--visually\" id=\"sk-estimator-id-5\" type=\"checkbox\" checked><label for=\"sk-estimator-id-5\" class=\"sk-toggleable__label sk-toggleable__label-arrow\">XGBClassifier</label><div class=\"sk-toggleable__content\"><pre>XGBClassifier(base_score=0.5, booster=&#x27;gbtree&#x27;, callbacks=None,\n",
       "              colsample_bylevel=1, colsample_bynode=1, colsample_bytree=1,\n",
       "              early_stopping_rounds=None, enable_categorical=False,\n",
       "              eval_metric=None, feature_types=None, gamma=0, gpu_id=-1,\n",
       "              grow_policy=&#x27;depthwise&#x27;, importance_type=None,\n",
       "              interaction_constraints=&#x27;&#x27;, learning_rate=0.300000012,\n",
       "              max_bin=256, max_cat_threshold=64, max_cat_to_onehot=4,\n",
       "              max_delta_step=0, max_depth=6, max_leaves=0, min_child_weight=1,\n",
       "              missing=nan, monotone_constraints=&#x27;()&#x27;, n_estimators=100,\n",
       "              n_jobs=0, num_parallel_tree=1, predictor=&#x27;auto&#x27;, random_state=0, ...)</pre></div></div></div></div></div>"
      ],
      "text/plain": [
       "XGBClassifier(base_score=0.5, booster='gbtree', callbacks=None,\n",
       "              colsample_bylevel=1, colsample_bynode=1, colsample_bytree=1,\n",
       "              early_stopping_rounds=None, enable_categorical=False,\n",
       "              eval_metric=None, feature_types=None, gamma=0, gpu_id=-1,\n",
       "              grow_policy='depthwise', importance_type=None,\n",
       "              interaction_constraints='', learning_rate=0.300000012,\n",
       "              max_bin=256, max_cat_threshold=64, max_cat_to_onehot=4,\n",
       "              max_delta_step=0, max_depth=6, max_leaves=0, min_child_weight=1,\n",
       "              missing=nan, monotone_constraints='()', n_estimators=100,\n",
       "              n_jobs=0, num_parallel_tree=1, predictor='auto', random_state=0, ...)"
      ]
     },
     "execution_count": 119,
     "metadata": {},
     "output_type": "execute_result"
    }
   ],
   "source": [
    "#choose xgboost as model to performn the fit. The model runs only for 10 seconds owing to small vector size.\n",
    "\n",
    "import xgboost as xgb\n",
    "\n",
    "xgb_cl = xgb.XGBClassifier()\n",
    "\n",
    "xgb_cl.fit(X_train, y_train)"
   ]
  },
  {
   "cell_type": "code",
   "execution_count": 120,
   "metadata": {},
   "outputs": [
    {
     "name": "stdout",
     "output_type": "stream",
     "text": [
      "accuracy Score: 0.7059\n"
     ]
    },
    {
     "data": {
      "image/png": "[encoded data removed]",
      "text/plain": [
       "<Figure size 640x480 with 2 Axes>"
      ]
     },
     "metadata": {},
     "output_type": "display_data"
    }
   ],
   "source": [
    "# predict the values and print the accuracy score and covariance matrix.\n",
    "\n",
    "from sklearn.metrics import confusion_matrix\n",
    "from sklearn.metrics import accuracy_score\n",
    "from sklearn.metrics import ConfusionMatrixDisplay\n",
    "\n",
    "y_pred = xgb_cl.predict(X_test)\n",
    "\n",
    "print(\"accuracy Score:\", accuracy_score(y_test, y_pred))\n",
    "\n",
    "confusion_matrix = confusion_matrix(y_test, y_pred)\n",
    "\n",
    "cm_display = ConfusionMatrixDisplay(confusion_matrix = confusion_matrix, display_labels = [False, True])\n",
    "\n",
    "cm_display.plot()\n",
    "\n",
    "plt.show()"
   ]
  },
  {
   "cell_type": "code",
   "execution_count": 121,
   "metadata": {},
   "outputs": [
    {
     "name": "stderr",
     "output_type": "stream",
     "text": [
      "/opt/homebrew/Caskroom/miniforge/base/envs/base_env/lib/python3.8/site-packages/sklearn/utils/validation.py:1141: DataConversionWarning: A column-vector y was passed when a 1d array was expected. Please change the shape of y to (n_samples, ), for example using ravel().\n",
      "  y = column_or_1d(y, warn=True)\n"
     ]
    },
    {
     "data": {
      "text/html": [
       "<style>#sk-container-id-6 {color: black;background-color: white;}#sk-container-id-6 pre{padding: 0;}#sk-container-id-6 div.sk-toggleable {background-color: white;}#sk-container-id-6 label.sk-toggleable__label {cursor: pointer;display: block;width: 100%;margin-bottom: 0;padding: 0.3em;box-sizing: border-box;text-align: center;}#sk-container-id-6 label.sk-toggleable__label-arrow:before {content: \"▸\";float: left;margin-right: 0.25em;color: #696969;}#sk-container-id-6 label.sk-toggleable__label-arrow:hover:before {color: black;}#sk-container-id-6 div.sk-estimator:hover label.sk-toggleable__label-arrow:before {color: black;}#sk-container-id-6 div.sk-toggleable__content {max-height: 0;max-width: 0;overflow: hidden;text-align: left;background-color: #f0f8ff;}#sk-container-id-6 div.sk-toggleable__content pre {margin: 0.2em;color: black;border-radius: 0.25em;background-color: #f0f8ff;}#sk-container-id-6 input.sk-toggleable__control:checked~div.sk-toggleable__content {max-height: 200px;max-width: 100%;overflow: auto;}#sk-container-id-6 input.sk-toggleable__control:checked~label.sk-toggleable__label-arrow:before {content: \"▾\";}#sk-container-id-6 div.sk-estimator input.sk-toggleable__control:checked~label.sk-toggleable__label {background-color: #d4ebff;}#sk-container-id-6 div.sk-label input.sk-toggleable__control:checked~label.sk-toggleable__label {background-color: #d4ebff;}#sk-container-id-6 input.sk-hidden--visually {border: 0;clip: rect(1px 1px 1px 1px);clip: rect(1px, 1px, 1px, 1px);height: 1px;margin: -1px;overflow: hidden;padding: 0;position: absolute;width: 1px;}#sk-container-id-6 div.sk-estimator {font-family: monospace;background-color: #f0f8ff;border: 1px dotted black;border-radius: 0.25em;box-sizing: border-box;margin-bottom: 0.5em;}#sk-container-id-6 div.sk-estimator:hover {background-color: #d4ebff;}#sk-container-id-6 div.sk-parallel-item::after {content: \"\";width: 100%;border-bottom: 1px solid gray;flex-grow: 1;}#sk-container-id-6 div.sk-label:hover label.sk-toggleable__label {background-color: #d4ebff;}#sk-container-id-6 div.sk-serial::before {content: \"\";position: absolute;border-left: 1px solid gray;box-sizing: border-box;top: 0;bottom: 0;left: 50%;z-index: 0;}#sk-container-id-6 div.sk-serial {display: flex;flex-direction: column;align-items: center;background-color: white;padding-right: 0.2em;padding-left: 0.2em;position: relative;}#sk-container-id-6 div.sk-item {position: relative;z-index: 1;}#sk-container-id-6 div.sk-parallel {display: flex;align-items: stretch;justify-content: center;background-color: white;position: relative;}#sk-container-id-6 div.sk-item::before, #sk-container-id-6 div.sk-parallel-item::before {content: \"\";position: absolute;border-left: 1px solid gray;box-sizing: border-box;top: 0;bottom: 0;left: 50%;z-index: -1;}#sk-container-id-6 div.sk-parallel-item {display: flex;flex-direction: column;z-index: 1;position: relative;background-color: white;}#sk-container-id-6 div.sk-parallel-item:first-child::after {align-self: flex-end;width: 50%;}#sk-container-id-6 div.sk-parallel-item:last-child::after {align-self: flex-start;width: 50%;}#sk-container-id-6 div.sk-parallel-item:only-child::after {width: 0;}#sk-container-id-6 div.sk-dashed-wrapped {border: 1px dashed gray;margin: 0 0.4em 0.5em 0.4em;box-sizing: border-box;padding-bottom: 0.4em;background-color: white;}#sk-container-id-6 div.sk-label label {font-family: monospace;font-weight: bold;display: inline-block;line-height: 1.2em;}#sk-container-id-6 div.sk-label-container {text-align: center;}#sk-container-id-6 div.sk-container {/* jupyter's `normalize.less` sets `[hidden] { display: none; }` but bootstrap.min.css set `[hidden] { display: none !important; }` so we also need the `!important` here to be able to override the default hidden behavior on the sphinx rendered scikit-learn.org. See: https://github.com/scikit-learn/scikit-learn/issues/21755 */display: inline-block !important;position: relative;}#sk-container-id-6 div.sk-text-repr-fallback {display: none;}</style><div id=\"sk-container-id-6\" class=\"sk-top-container\"><div class=\"sk-text-repr-fallback\"><pre>AdaBoostClassifier()</pre><b>In a Jupyter environment, please rerun this cell to show the HTML representation or trust the notebook. <br />On GitHub, the HTML representation is unable to render, please try loading this page with nbviewer.org.</b></div><div class=\"sk-container\" hidden><div class=\"sk-item\"><div class=\"sk-estimator sk-toggleable\"><input class=\"sk-toggleable__control sk-hidden--visually\" id=\"sk-estimator-id-6\" type=\"checkbox\" checked><label for=\"sk-estimator-id-6\" class=\"sk-toggleable__label sk-toggleable__label-arrow\">AdaBoostClassifier</label><div class=\"sk-toggleable__content\"><pre>AdaBoostClassifier()</pre></div></div></div></div></div>"
      ],
      "text/plain": [
       "AdaBoostClassifier()"
      ]
     },
     "execution_count": 121,
     "metadata": {},
     "output_type": "execute_result"
    }
   ],
   "source": [
    "# run the ada boost classifier to chek its performance.\n",
    "\n",
    "from sklearn.ensemble import AdaBoostClassifier\n",
    "\n",
    "adb_cl = AdaBoostClassifier()\n",
    "\n",
    "adb_cl.fit(X_train, y_train)"
   ]
  },
  {
   "cell_type": "code",
   "execution_count": 122,
   "metadata": {},
   "outputs": [
    {
     "name": "stdout",
     "output_type": "stream",
     "text": [
      "accuracy Score: 0.6684\n"
     ]
    },
    {
     "data": {
      "image/png": "[encoded data removed]",
      "text/plain": [
       "<Figure size 640x480 with 2 Axes>"
      ]
     },
     "metadata": {},
     "output_type": "display_data"
    }
   ],
   "source": [
    "# print the accuracy score and covariance matrix.\n",
    "\n",
    "from sklearn.metrics import confusion_matrix\n",
    "from sklearn.metrics import accuracy_score\n",
    "from sklearn.metrics import ConfusionMatrixDisplay\n",
    "\n",
    "y_pred3 = adb_cl.predict(X_test)\n",
    "\n",
    "print(\"accuracy Score:\", accuracy_score(y_test, y_pred3))\n",
    "\n",
    "confusion_matrix = confusion_matrix(y_test, y_pred3)\n",
    "\n",
    "cm_display = ConfusionMatrixDisplay(confusion_matrix = confusion_matrix, display_labels = [False, True])\n",
    "\n",
    "cm_display.plot()\n",
    "\n",
    "plt.show()"
   ]
  }
 ],
 "metadata": {
  "kernelspec": {
   "display_name": "Python 3 (ipykernel)",
   "language": "python",
   "name": "python3"
  },
  "language_info": {
   "codemirror_mode": {
    "name": "ipython",
    "version": 3
   },
   "file_extension": ".py",
   "mimetype": "text/x-python",
   "name": "python",
   "nbconvert_exporter": "python",
   "pygments_lexer": "ipython3",
   "version": "3.8.15"
  }
 },
 "nbformat": 4,
 "nbformat_minor": 4
}
